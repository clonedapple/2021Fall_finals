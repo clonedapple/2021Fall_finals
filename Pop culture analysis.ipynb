{
 "cells": [
  {
   "cell_type": "code",
   "execution_count": 1,
   "id": "1f386ece",
   "metadata": {},
   "outputs": [],
   "source": [
    "import pandas as pd\n",
    "import numpy as np\n",
    "import json\n",
    "import seaborn as sns\n",
    "from itertools import combinations\n",
    "import matplotlib.pyplot as plt\n",
    "from scipy.stats import pearsonr"
   ]
  },
  {
   "cell_type": "markdown",
   "id": "952d53c6",
   "metadata": {},
   "source": [
    "<h1><b><center>Movie Analysis</center></b></h1>"
   ]
  },
  {
   "cell_type": "markdown",
   "id": "63f8a985",
   "metadata": {},
   "source": [
    "## Reading data"
   ]
  },
  {
   "cell_type": "code",
   "execution_count": 2,
   "id": "e5d9bac7",
   "metadata": {},
   "outputs": [],
   "source": [
    "pd.options.mode.chained_assignment = None "
   ]
  },
  {
   "cell_type": "code",
   "execution_count": 4,
   "id": "834bb58e",
   "metadata": {},
   "outputs": [],
   "source": [
    "df_1 =  pd.read_csv('data//IMDBdata_MainData.csv')"
   ]
  },
  {
   "cell_type": "code",
   "execution_count": 5,
   "id": "0dd853fe",
   "metadata": {},
   "outputs": [],
   "source": [
    "df_2 = pd.read_csv('data//IMDBdata_MainData2.csv')"
   ]
  },
  {
   "cell_type": "code",
   "execution_count": 7,
   "id": "997fb805",
   "metadata": {},
   "outputs": [
    {
     "data": {
      "text/plain": [
       "(5273, 27)"
      ]
     },
     "execution_count": 7,
     "metadata": {},
     "output_type": "execute_result"
    }
   ],
   "source": [
    "df_1.shape"
   ]
  },
  {
   "cell_type": "code",
   "execution_count": 8,
   "id": "8ab54d37",
   "metadata": {},
   "outputs": [
    {
     "data": {
      "text/plain": [
       "(5382, 27)"
      ]
     },
     "execution_count": 8,
     "metadata": {},
     "output_type": "execute_result"
    }
   ],
   "source": [
    "df_2.shape"
   ]
  },
  {
   "cell_type": "code",
   "execution_count": 9,
   "id": "a98e5740",
   "metadata": {},
   "outputs": [],
   "source": [
    "data = pd.concat([df_1,df_2]).drop_duplicates(subset=['Title']).reset_index(drop=True)"
   ]
  },
  {
   "cell_type": "code",
   "execution_count": 20,
   "id": "718e844b",
   "metadata": {},
   "outputs": [
    {
     "data": {
      "text/html": [
       "<div>\n",
       "<style scoped>\n",
       "    .dataframe tbody tr th:only-of-type {\n",
       "        vertical-align: middle;\n",
       "    }\n",
       "\n",
       "    .dataframe tbody tr th {\n",
       "        vertical-align: top;\n",
       "    }\n",
       "\n",
       "    .dataframe thead th {\n",
       "        text-align: right;\n",
       "    }\n",
       "</style>\n",
       "<table border=\"1\" class=\"dataframe\">\n",
       "  <thead>\n",
       "    <tr style=\"text-align: right;\">\n",
       "      <th></th>\n",
       "      <th>Title</th>\n",
       "      <th>Year</th>\n",
       "      <th>Rated</th>\n",
       "      <th>Released</th>\n",
       "      <th>Runtime</th>\n",
       "      <th>Genre</th>\n",
       "      <th>Director</th>\n",
       "      <th>Writer</th>\n",
       "      <th>Actors</th>\n",
       "      <th>Plot</th>\n",
       "      <th>...</th>\n",
       "      <th>imdbRating</th>\n",
       "      <th>imdbVotes</th>\n",
       "      <th>imdbID</th>\n",
       "      <th>Type</th>\n",
       "      <th>DVD</th>\n",
       "      <th>BoxOffice</th>\n",
       "      <th>Production</th>\n",
       "      <th>Website</th>\n",
       "      <th>Response</th>\n",
       "      <th>tomatoURL</th>\n",
       "    </tr>\n",
       "  </thead>\n",
       "  <tbody>\n",
       "    <tr>\n",
       "      <th>11</th>\n",
       "      <td>Disaster Movie</td>\n",
       "      <td>2008</td>\n",
       "      <td>PG-13</td>\n",
       "      <td>29 Aug 2008</td>\n",
       "      <td>87 min</td>\n",
       "      <td>Comedy</td>\n",
       "      <td>Jason Friedberg, Aaron Seltzer</td>\n",
       "      <td>Jason Friedberg, Aaron Seltzer</td>\n",
       "      <td>Matt Lanter, Vanessa Lachey, Gary 'G. Thang' J...</td>\n",
       "      <td>Over the course of one evening, an unsuspectin...</td>\n",
       "      <td>...</td>\n",
       "      <td>1.9</td>\n",
       "      <td>77,407</td>\n",
       "      <td>tt1213644</td>\n",
       "      <td>movie</td>\n",
       "      <td>06 Jan 2009</td>\n",
       "      <td>$14,174,654</td>\n",
       "      <td>Lionsgate</td>\n",
       "      <td>http://disastermovie.net/</td>\n",
       "      <td>True</td>\n",
       "      <td>http://www.rottentomatoes.com/m/disaster_movie/</td>\n",
       "    </tr>\n",
       "  </tbody>\n",
       "</table>\n",
       "<p>1 rows × 27 columns</p>\n",
       "</div>"
      ],
      "text/plain": [
       "             Title  Year  Rated     Released Runtime   Genre  \\\n",
       "11  Disaster Movie  2008  PG-13  29 Aug 2008  87 min  Comedy   \n",
       "\n",
       "                          Director                          Writer  \\\n",
       "11  Jason Friedberg, Aaron Seltzer  Jason Friedberg, Aaron Seltzer   \n",
       "\n",
       "                                               Actors  \\\n",
       "11  Matt Lanter, Vanessa Lachey, Gary 'G. Thang' J...   \n",
       "\n",
       "                                                 Plot  ... imdbRating  \\\n",
       "11  Over the course of one evening, an unsuspectin...  ...        1.9   \n",
       "\n",
       "   imdbVotes     imdbID   Type          DVD    BoxOffice  Production  \\\n",
       "11    77,407  tt1213644  movie  06 Jan 2009  $14,174,654   Lionsgate   \n",
       "\n",
       "                      Website Response  \\\n",
       "11  http://disastermovie.net/     True   \n",
       "\n",
       "                                          tomatoURL  \n",
       "11  http://www.rottentomatoes.com/m/disaster_movie/  \n",
       "\n",
       "[1 rows x 27 columns]"
      ]
     },
     "execution_count": 20,
     "metadata": {},
     "output_type": "execute_result"
    }
   ],
   "source": [
    "data[data['Title'] == 'Disaster Movie']"
   ]
  },
  {
   "cell_type": "code",
   "execution_count": 35,
   "id": "3f2be9a7",
   "metadata": {},
   "outputs": [
    {
     "data": {
      "text/plain": [
       "{'Title': 'Disaster Movie',\n",
       " 'Year': 2008,\n",
       " 'Rated': 'PG-13',\n",
       " 'Released': '29 Aug 2008',\n",
       " 'Runtime': '87 min',\n",
       " 'Genre': 'Comedy',\n",
       " 'Director': 'Jason Friedberg, Aaron Seltzer',\n",
       " 'Writer': 'Jason Friedberg, Aaron Seltzer',\n",
       " 'Actors': \"Matt Lanter, Vanessa Lachey, Gary 'G. Thang' Johnson, Nicole Parker\",\n",
       " 'Plot': 'Over the course of one evening, an unsuspecting group of twenty-somethings find themselves bombarded by a series of natural disasters and catastrophic events.',\n",
       " 'Language': 'English',\n",
       " 'Country': 'USA',\n",
       " 'Awards': '1 win & 6 nominations.',\n",
       " 'Poster': 'https://images-na.ssl-images-amazon.com/images/M/MV5BMTIzMDQyNDgwNl5BMl5BanBnXkFtZTcwMDA0MTc3MQ@@._V1_SX300.jpg',\n",
       " 'Ratings.Source': 'Internet Movie Database',\n",
       " 'Ratings.Value': '1.9/10',\n",
       " 'Metascore': 15.0,\n",
       " 'imdbRating': 1.9,\n",
       " 'imdbVotes': '77,407',\n",
       " 'imdbID': 'tt1213644',\n",
       " 'Type': 'movie',\n",
       " 'DVD': '06 Jan 2009',\n",
       " 'BoxOffice': '$14,174,654',\n",
       " 'Production': 'Lionsgate',\n",
       " 'Website': 'http://disastermovie.net/',\n",
       " 'Response': True,\n",
       " 'tomatoURL': 'http://www.rottentomatoes.com/m/disaster_movie/'}"
      ]
     },
     "execution_count": 35,
     "metadata": {},
     "output_type": "execute_result"
    }
   ],
   "source": [
    "sample = data.iloc[11,:].to_dict()\n",
    "sample\n",
    "# pd.DataFrame.from_dict(sample,columns = sample.keys(), orient='index' )\n",
    "# pd.DataFrame(sample,index=[0])\n",
    "\n"
   ]
  },
  {
   "cell_type": "code",
   "execution_count": null,
   "id": "0b3e7792",
   "metadata": {},
   "outputs": [],
   "source": []
  },
  {
   "cell_type": "code",
   "execution_count": 11,
   "id": "b14acf20",
   "metadata": {},
   "outputs": [],
   "source": [
    "# scraped KIM data\n",
    "with open('data//kinds_in_mind_data.json', 'r') as f:\n",
    "    kim = json.load(f)"
   ]
  },
  {
   "cell_type": "code",
   "execution_count": null,
   "id": "13b59398",
   "metadata": {},
   "outputs": [],
   "source": []
  },
  {
   "cell_type": "code",
   "execution_count": 16,
   "id": "2827d1bb",
   "metadata": {},
   "outputs": [],
   "source": [
    "kim_data = pd.DataFrame(kim.items(), columns=['Title', 'Rating'])"
   ]
  },
  {
   "cell_type": "code",
   "execution_count": 17,
   "id": "ea3a3612",
   "metadata": {},
   "outputs": [
    {
     "data": {
      "text/html": [
       "<div>\n",
       "<style scoped>\n",
       "    .dataframe tbody tr th:only-of-type {\n",
       "        vertical-align: middle;\n",
       "    }\n",
       "\n",
       "    .dataframe tbody tr th {\n",
       "        vertical-align: top;\n",
       "    }\n",
       "\n",
       "    .dataframe thead th {\n",
       "        text-align: right;\n",
       "    }\n",
       "</style>\n",
       "<table border=\"1\" class=\"dataframe\">\n",
       "  <thead>\n",
       "    <tr style=\"text-align: right;\">\n",
       "      <th></th>\n",
       "      <th>Title</th>\n",
       "      <th>Rating</th>\n",
       "    </tr>\n",
       "  </thead>\n",
       "  <tbody>\n",
       "    <tr>\n",
       "      <th>0</th>\n",
       "      <td>Abandon</td>\n",
       "      <td>4.4.4</td>\n",
       "    </tr>\n",
       "    <tr>\n",
       "      <th>1</th>\n",
       "      <td>Abduction</td>\n",
       "      <td>4.5.5</td>\n",
       "    </tr>\n",
       "    <tr>\n",
       "      <th>2</th>\n",
       "      <td>Abominable</td>\n",
       "      <td>1.2.1</td>\n",
       "    </tr>\n",
       "    <tr>\n",
       "      <th>3</th>\n",
       "      <td>About A Boy</td>\n",
       "      <td>3.3.5</td>\n",
       "    </tr>\n",
       "    <tr>\n",
       "      <th>4</th>\n",
       "      <td>About Last Night</td>\n",
       "      <td>7.2.10</td>\n",
       "    </tr>\n",
       "    <tr>\n",
       "      <th>...</th>\n",
       "      <td>...</td>\n",
       "      <td>...</td>\n",
       "    </tr>\n",
       "    <tr>\n",
       "      <th>5402</th>\n",
       "      <td>The Ballad of Little Jo</td>\n",
       "      <td>6.5.3</td>\n",
       "    </tr>\n",
       "    <tr>\n",
       "      <th>5403</th>\n",
       "      <td>The Band’s Visit</td>\n",
       "      <td>5.2.5</td>\n",
       "    </tr>\n",
       "    <tr>\n",
       "      <th>5404</th>\n",
       "      <td>The Banger Sisters</td>\n",
       "      <td>7.2.6</td>\n",
       "    </tr>\n",
       "    <tr>\n",
       "      <th>5405</th>\n",
       "      <td>The Bank Job</td>\n",
       "      <td>8.8.7</td>\n",
       "    </tr>\n",
       "    <tr>\n",
       "      <th>5406</th>\n",
       "      <td>The Basketball Diaries</td>\n",
       "      <td>6.7.7</td>\n",
       "    </tr>\n",
       "  </tbody>\n",
       "</table>\n",
       "<p>5407 rows × 2 columns</p>\n",
       "</div>"
      ],
      "text/plain": [
       "                        Title  Rating\n",
       "0                     Abandon   4.4.4\n",
       "1                   Abduction   4.5.5\n",
       "2                  Abominable   1.2.1\n",
       "3                 About A Boy   3.3.5\n",
       "4            About Last Night  7.2.10\n",
       "...                       ...     ...\n",
       "5402  The Ballad of Little Jo   6.5.3\n",
       "5403         The Band’s Visit   5.2.5\n",
       "5404       The Banger Sisters   7.2.6\n",
       "5405             The Bank Job   8.8.7\n",
       "5406   The Basketball Diaries   6.7.7\n",
       "\n",
       "[5407 rows x 2 columns]"
      ]
     },
     "execution_count": 17,
     "metadata": {},
     "output_type": "execute_result"
    }
   ],
   "source": [
    "kim_data"
   ]
  },
  {
   "cell_type": "markdown",
   "id": "f2ba2b17",
   "metadata": {},
   "source": [
    "## Data processing"
   ]
  },
  {
   "cell_type": "code",
   "execution_count": 18,
   "id": "7585eadc",
   "metadata": {},
   "outputs": [],
   "source": [
    "temp_join = pd.merge(data,kim_data,on='Title')"
   ]
  },
  {
   "cell_type": "code",
   "execution_count": 19,
   "id": "34c0587b",
   "metadata": {},
   "outputs": [
    {
     "data": {
      "text/html": [
       "<div>\n",
       "<style scoped>\n",
       "    .dataframe tbody tr th:only-of-type {\n",
       "        vertical-align: middle;\n",
       "    }\n",
       "\n",
       "    .dataframe tbody tr th {\n",
       "        vertical-align: top;\n",
       "    }\n",
       "\n",
       "    .dataframe thead th {\n",
       "        text-align: right;\n",
       "    }\n",
       "</style>\n",
       "<table border=\"1\" class=\"dataframe\">\n",
       "  <thead>\n",
       "    <tr style=\"text-align: right;\">\n",
       "      <th></th>\n",
       "      <th>Title</th>\n",
       "      <th>Year</th>\n",
       "      <th>Rated</th>\n",
       "      <th>Released</th>\n",
       "      <th>Runtime</th>\n",
       "      <th>Genre</th>\n",
       "      <th>Director</th>\n",
       "      <th>Writer</th>\n",
       "      <th>Actors</th>\n",
       "      <th>Plot</th>\n",
       "      <th>...</th>\n",
       "      <th>imdbVotes</th>\n",
       "      <th>imdbID</th>\n",
       "      <th>Type</th>\n",
       "      <th>DVD</th>\n",
       "      <th>BoxOffice</th>\n",
       "      <th>Production</th>\n",
       "      <th>Website</th>\n",
       "      <th>Response</th>\n",
       "      <th>tomatoURL</th>\n",
       "      <th>Rating</th>\n",
       "    </tr>\n",
       "  </thead>\n",
       "  <tbody>\n",
       "    <tr>\n",
       "      <th>0</th>\n",
       "      <td>Superbabies: Baby Geniuses 2</td>\n",
       "      <td>2004</td>\n",
       "      <td>PG</td>\n",
       "      <td>27 Aug 2004</td>\n",
       "      <td>88 min</td>\n",
       "      <td>Comedy, Family, Sci-Fi</td>\n",
       "      <td>Bob Clark</td>\n",
       "      <td>Steven Paul (story), Gregory Poppen (screenplay)</td>\n",
       "      <td>Jon Voight, Scott Baio, Vanessa Angel, Skyler ...</td>\n",
       "      <td>A group of smart-talking toddlers find themsel...</td>\n",
       "      <td>...</td>\n",
       "      <td>26,376</td>\n",
       "      <td>tt0270846</td>\n",
       "      <td>movie</td>\n",
       "      <td>04 Jan 2005</td>\n",
       "      <td>$9,016,422</td>\n",
       "      <td>Sony</td>\n",
       "      <td>http://www.sonypictures.com/movies/superbabies...</td>\n",
       "      <td>True</td>\n",
       "      <td>http://www.rottentomatoes.com/m/super_babies_b...</td>\n",
       "      <td>2.3.2</td>\n",
       "    </tr>\n",
       "    <tr>\n",
       "      <th>1</th>\n",
       "      <td>Disaster Movie</td>\n",
       "      <td>2008</td>\n",
       "      <td>PG-13</td>\n",
       "      <td>29 Aug 2008</td>\n",
       "      <td>87 min</td>\n",
       "      <td>Comedy</td>\n",
       "      <td>Jason Friedberg, Aaron Seltzer</td>\n",
       "      <td>Jason Friedberg, Aaron Seltzer</td>\n",
       "      <td>Matt Lanter, Vanessa Lachey, Gary 'G. Thang' J...</td>\n",
       "      <td>Over the course of one evening, an unsuspectin...</td>\n",
       "      <td>...</td>\n",
       "      <td>77,407</td>\n",
       "      <td>tt1213644</td>\n",
       "      <td>movie</td>\n",
       "      <td>06 Jan 2009</td>\n",
       "      <td>$14,174,654</td>\n",
       "      <td>Lionsgate</td>\n",
       "      <td>http://disastermovie.net/</td>\n",
       "      <td>True</td>\n",
       "      <td>http://www.rottentomatoes.com/m/disaster_movie/</td>\n",
       "      <td>7.8.5</td>\n",
       "    </tr>\n",
       "    <tr>\n",
       "      <th>2</th>\n",
       "      <td>From Justin to Kelly</td>\n",
       "      <td>2003</td>\n",
       "      <td>PG</td>\n",
       "      <td>20 Jun 2003</td>\n",
       "      <td>81 min</td>\n",
       "      <td>Comedy, Musical, Romance</td>\n",
       "      <td>Robert Iscove</td>\n",
       "      <td>Kim Fuller</td>\n",
       "      <td>Kelly Clarkson, Justin Guarini, Katherine Bail...</td>\n",
       "      <td>A waitress from Texas and a college student fr...</td>\n",
       "      <td>...</td>\n",
       "      <td>23,918</td>\n",
       "      <td>tt0339034</td>\n",
       "      <td>movie</td>\n",
       "      <td>26 Aug 2003</td>\n",
       "      <td>$4,584,577</td>\n",
       "      <td>20th Century Fox</td>\n",
       "      <td>http://www.fromjustintokelly.com/</td>\n",
       "      <td>True</td>\n",
       "      <td>http://www.rottentomatoes.com/m/from_justin_to...</td>\n",
       "      <td>3.2.2</td>\n",
       "    </tr>\n",
       "    <tr>\n",
       "      <th>3</th>\n",
       "      <td>Son of the Mask</td>\n",
       "      <td>2005</td>\n",
       "      <td>PG</td>\n",
       "      <td>18 Feb 2005</td>\n",
       "      <td>94 min</td>\n",
       "      <td>Comedy, Family, Fantasy</td>\n",
       "      <td>Lawrence Guterman</td>\n",
       "      <td>Lance Khazei</td>\n",
       "      <td>Jamie Kennedy, Alan Cumming, Liam Falconer, Ry...</td>\n",
       "      <td>Tim Avery, an aspiring cartoonist, finds himse...</td>\n",
       "      <td>...</td>\n",
       "      <td>43,443</td>\n",
       "      <td>tt0362165</td>\n",
       "      <td>movie</td>\n",
       "      <td>17 May 2005</td>\n",
       "      <td>$16,967,576</td>\n",
       "      <td>New Line Cinema</td>\n",
       "      <td>http://www.sonofthemask.com/</td>\n",
       "      <td>True</td>\n",
       "      <td>http://www.rottentomatoes.com/m/son_of_the_mask/</td>\n",
       "      <td>3.4.3</td>\n",
       "    </tr>\n",
       "    <tr>\n",
       "      <th>4</th>\n",
       "      <td>Crossover</td>\n",
       "      <td>2006</td>\n",
       "      <td>PG-13</td>\n",
       "      <td>01 Sep 2006</td>\n",
       "      <td>95 min</td>\n",
       "      <td>Action, Sport</td>\n",
       "      <td>Preston A. Whitmore II</td>\n",
       "      <td>Preston A. Whitmore II</td>\n",
       "      <td>Anthony Mackie, Wesley Jonathan, Eva Marcille,...</td>\n",
       "      <td>A naturally talented basketball player, Noah C...</td>\n",
       "      <td>...</td>\n",
       "      <td>8,778</td>\n",
       "      <td>tt0473024</td>\n",
       "      <td>movie</td>\n",
       "      <td>20 Feb 2007</td>\n",
       "      <td>$7,009,668</td>\n",
       "      <td>Sony Pictures Entertainment</td>\n",
       "      <td>http://www.sony.com/crossover</td>\n",
       "      <td>True</td>\n",
       "      <td>http://www.rottentomatoes.com/m/crossover/</td>\n",
       "      <td>5.3.5</td>\n",
       "    </tr>\n",
       "    <tr>\n",
       "      <th>...</th>\n",
       "      <td>...</td>\n",
       "      <td>...</td>\n",
       "      <td>...</td>\n",
       "      <td>...</td>\n",
       "      <td>...</td>\n",
       "      <td>...</td>\n",
       "      <td>...</td>\n",
       "      <td>...</td>\n",
       "      <td>...</td>\n",
       "      <td>...</td>\n",
       "      <td>...</td>\n",
       "      <td>...</td>\n",
       "      <td>...</td>\n",
       "      <td>...</td>\n",
       "      <td>...</td>\n",
       "      <td>...</td>\n",
       "      <td>...</td>\n",
       "      <td>...</td>\n",
       "      <td>...</td>\n",
       "      <td>...</td>\n",
       "      <td>...</td>\n",
       "    </tr>\n",
       "    <tr>\n",
       "      <th>2673</th>\n",
       "      <td>The Family</td>\n",
       "      <td>2016</td>\n",
       "      <td>TV-PG</td>\n",
       "      <td>03 Mar 2016</td>\n",
       "      <td>60 min</td>\n",
       "      <td>Drama, Mystery</td>\n",
       "      <td>NaN</td>\n",
       "      <td>Jenna Bans</td>\n",
       "      <td>Joan Allen, Rupert Graves, Alison Pill, Margot...</td>\n",
       "      <td>A community is rattled when a politician's son...</td>\n",
       "      <td>...</td>\n",
       "      <td>4,005</td>\n",
       "      <td>tt4428038</td>\n",
       "      <td>series</td>\n",
       "      <td>NaN</td>\n",
       "      <td>NaN</td>\n",
       "      <td>NaN</td>\n",
       "      <td>NaN</td>\n",
       "      <td>True</td>\n",
       "      <td>NaN</td>\n",
       "      <td>6.7.8</td>\n",
       "    </tr>\n",
       "    <tr>\n",
       "      <th>2674</th>\n",
       "      <td>Wolf Creek</td>\n",
       "      <td>2016–</td>\n",
       "      <td>NaN</td>\n",
       "      <td>12 May 2016</td>\n",
       "      <td>NaN</td>\n",
       "      <td>Drama, Horror, Thriller</td>\n",
       "      <td>NaN</td>\n",
       "      <td>NaN</td>\n",
       "      <td>Lucy Fry, John Jarratt, Dustin Clare, Andy McPhee</td>\n",
       "      <td>Eve, a 19-year-old American tourist is targete...</td>\n",
       "      <td>...</td>\n",
       "      <td>2,005</td>\n",
       "      <td>tt4460878</td>\n",
       "      <td>series</td>\n",
       "      <td>NaN</td>\n",
       "      <td>NaN</td>\n",
       "      <td>NaN</td>\n",
       "      <td>NaN</td>\n",
       "      <td>True</td>\n",
       "      <td>NaN</td>\n",
       "      <td>4.8.7</td>\n",
       "    </tr>\n",
       "    <tr>\n",
       "      <th>2675</th>\n",
       "      <td>Van Helsing</td>\n",
       "      <td>2016–</td>\n",
       "      <td>NaN</td>\n",
       "      <td>23 Sep 2016</td>\n",
       "      <td>60 min</td>\n",
       "      <td>Action, Drama, Fantasy</td>\n",
       "      <td>NaN</td>\n",
       "      <td>NaN</td>\n",
       "      <td>Kelly Overton, Christopher Heyerdahl, Jonathan...</td>\n",
       "      <td>Vanessa Helsing, distant relative of famous va...</td>\n",
       "      <td>...</td>\n",
       "      <td>6,245</td>\n",
       "      <td>tt5197820</td>\n",
       "      <td>series</td>\n",
       "      <td>NaN</td>\n",
       "      <td>NaN</td>\n",
       "      <td>NaN</td>\n",
       "      <td>NaN</td>\n",
       "      <td>True</td>\n",
       "      <td>NaN</td>\n",
       "      <td>4.7.2</td>\n",
       "    </tr>\n",
       "    <tr>\n",
       "      <th>2676</th>\n",
       "      <td>Conviction</td>\n",
       "      <td>2016–2017</td>\n",
       "      <td>NaN</td>\n",
       "      <td>03 Oct 2016</td>\n",
       "      <td>42 min</td>\n",
       "      <td>Drama</td>\n",
       "      <td>NaN</td>\n",
       "      <td>Liz Friedlander, Liz Friedman</td>\n",
       "      <td>Hayley Atwell, Eddie Cahill, Shawn Ashmore, Me...</td>\n",
       "      <td>A brilliant attorney and former First Daughter...</td>\n",
       "      <td>...</td>\n",
       "      <td>5,475</td>\n",
       "      <td>tt5396572</td>\n",
       "      <td>series</td>\n",
       "      <td>NaN</td>\n",
       "      <td>NaN</td>\n",
       "      <td>NaN</td>\n",
       "      <td>NaN</td>\n",
       "      <td>True</td>\n",
       "      <td>NaN</td>\n",
       "      <td>5.7.10</td>\n",
       "    </tr>\n",
       "    <tr>\n",
       "      <th>2677</th>\n",
       "      <td>Animal Kingdom</td>\n",
       "      <td>2016–</td>\n",
       "      <td>TV-MA</td>\n",
       "      <td>14 Jun 2016</td>\n",
       "      <td>60 min</td>\n",
       "      <td>Crime, Drama</td>\n",
       "      <td>NaN</td>\n",
       "      <td>Jonathan Lisco</td>\n",
       "      <td>Finn Cole, Aamya Deva Keroles, Ellen Barkin, S...</td>\n",
       "      <td>The series centers on 17-year-old Joshua \"\"J\"\"...</td>\n",
       "      <td>...</td>\n",
       "      <td>7,599</td>\n",
       "      <td>tt5574490</td>\n",
       "      <td>series</td>\n",
       "      <td>NaN</td>\n",
       "      <td>NaN</td>\n",
       "      <td>NaN</td>\n",
       "      <td>NaN</td>\n",
       "      <td>True</td>\n",
       "      <td>NaN</td>\n",
       "      <td>4.7.10</td>\n",
       "    </tr>\n",
       "  </tbody>\n",
       "</table>\n",
       "<p>2678 rows × 28 columns</p>\n",
       "</div>"
      ],
      "text/plain": [
       "                             Title       Year  Rated     Released Runtime  \\\n",
       "0     Superbabies: Baby Geniuses 2       2004     PG  27 Aug 2004  88 min   \n",
       "1                   Disaster Movie       2008  PG-13  29 Aug 2008  87 min   \n",
       "2             From Justin to Kelly       2003     PG  20 Jun 2003  81 min   \n",
       "3                  Son of the Mask       2005     PG  18 Feb 2005  94 min   \n",
       "4                        Crossover       2006  PG-13  01 Sep 2006  95 min   \n",
       "...                            ...        ...    ...          ...     ...   \n",
       "2673                    The Family       2016  TV-PG  03 Mar 2016  60 min   \n",
       "2674                    Wolf Creek      2016–    NaN  12 May 2016     NaN   \n",
       "2675                   Van Helsing      2016–    NaN  23 Sep 2016  60 min   \n",
       "2676                    Conviction  2016–2017    NaN  03 Oct 2016  42 min   \n",
       "2677                Animal Kingdom      2016–  TV-MA  14 Jun 2016  60 min   \n",
       "\n",
       "                         Genre                        Director  \\\n",
       "0       Comedy, Family, Sci-Fi                       Bob Clark   \n",
       "1                       Comedy  Jason Friedberg, Aaron Seltzer   \n",
       "2     Comedy, Musical, Romance                   Robert Iscove   \n",
       "3      Comedy, Family, Fantasy               Lawrence Guterman   \n",
       "4                Action, Sport          Preston A. Whitmore II   \n",
       "...                        ...                             ...   \n",
       "2673            Drama, Mystery                             NaN   \n",
       "2674   Drama, Horror, Thriller                             NaN   \n",
       "2675    Action, Drama, Fantasy                             NaN   \n",
       "2676                     Drama                             NaN   \n",
       "2677              Crime, Drama                             NaN   \n",
       "\n",
       "                                                Writer  \\\n",
       "0     Steven Paul (story), Gregory Poppen (screenplay)   \n",
       "1                       Jason Friedberg, Aaron Seltzer   \n",
       "2                                           Kim Fuller   \n",
       "3                                         Lance Khazei   \n",
       "4                               Preston A. Whitmore II   \n",
       "...                                                ...   \n",
       "2673                                        Jenna Bans   \n",
       "2674                                               NaN   \n",
       "2675                                               NaN   \n",
       "2676                     Liz Friedlander, Liz Friedman   \n",
       "2677                                    Jonathan Lisco   \n",
       "\n",
       "                                                 Actors  \\\n",
       "0     Jon Voight, Scott Baio, Vanessa Angel, Skyler ...   \n",
       "1     Matt Lanter, Vanessa Lachey, Gary 'G. Thang' J...   \n",
       "2     Kelly Clarkson, Justin Guarini, Katherine Bail...   \n",
       "3     Jamie Kennedy, Alan Cumming, Liam Falconer, Ry...   \n",
       "4     Anthony Mackie, Wesley Jonathan, Eva Marcille,...   \n",
       "...                                                 ...   \n",
       "2673  Joan Allen, Rupert Graves, Alison Pill, Margot...   \n",
       "2674  Lucy Fry, John Jarratt, Dustin Clare, Andy McPhee   \n",
       "2675  Kelly Overton, Christopher Heyerdahl, Jonathan...   \n",
       "2676  Hayley Atwell, Eddie Cahill, Shawn Ashmore, Me...   \n",
       "2677  Finn Cole, Aamya Deva Keroles, Ellen Barkin, S...   \n",
       "\n",
       "                                                   Plot  ... imdbVotes  \\\n",
       "0     A group of smart-talking toddlers find themsel...  ...    26,376   \n",
       "1     Over the course of one evening, an unsuspectin...  ...    77,407   \n",
       "2     A waitress from Texas and a college student fr...  ...    23,918   \n",
       "3     Tim Avery, an aspiring cartoonist, finds himse...  ...    43,443   \n",
       "4     A naturally talented basketball player, Noah C...  ...     8,778   \n",
       "...                                                 ...  ...       ...   \n",
       "2673  A community is rattled when a politician's son...  ...     4,005   \n",
       "2674  Eve, a 19-year-old American tourist is targete...  ...     2,005   \n",
       "2675  Vanessa Helsing, distant relative of famous va...  ...     6,245   \n",
       "2676  A brilliant attorney and former First Daughter...  ...     5,475   \n",
       "2677  The series centers on 17-year-old Joshua \"\"J\"\"...  ...     7,599   \n",
       "\n",
       "         imdbID    Type          DVD    BoxOffice  \\\n",
       "0     tt0270846   movie  04 Jan 2005   $9,016,422   \n",
       "1     tt1213644   movie  06 Jan 2009  $14,174,654   \n",
       "2     tt0339034   movie  26 Aug 2003   $4,584,577   \n",
       "3     tt0362165   movie  17 May 2005  $16,967,576   \n",
       "4     tt0473024   movie  20 Feb 2007   $7,009,668   \n",
       "...         ...     ...          ...          ...   \n",
       "2673  tt4428038  series          NaN          NaN   \n",
       "2674  tt4460878  series          NaN          NaN   \n",
       "2675  tt5197820  series          NaN          NaN   \n",
       "2676  tt5396572  series          NaN          NaN   \n",
       "2677  tt5574490  series          NaN          NaN   \n",
       "\n",
       "                       Production  \\\n",
       "0                            Sony   \n",
       "1                       Lionsgate   \n",
       "2                20th Century Fox   \n",
       "3                 New Line Cinema   \n",
       "4     Sony Pictures Entertainment   \n",
       "...                           ...   \n",
       "2673                          NaN   \n",
       "2674                          NaN   \n",
       "2675                          NaN   \n",
       "2676                          NaN   \n",
       "2677                          NaN   \n",
       "\n",
       "                                                Website  Response  \\\n",
       "0     http://www.sonypictures.com/movies/superbabies...      True   \n",
       "1                             http://disastermovie.net/      True   \n",
       "2                     http://www.fromjustintokelly.com/      True   \n",
       "3                          http://www.sonofthemask.com/      True   \n",
       "4                         http://www.sony.com/crossover      True   \n",
       "...                                                 ...       ...   \n",
       "2673                                                NaN      True   \n",
       "2674                                                NaN      True   \n",
       "2675                                                NaN      True   \n",
       "2676                                                NaN      True   \n",
       "2677                                                NaN      True   \n",
       "\n",
       "                                              tomatoURL  Rating  \n",
       "0     http://www.rottentomatoes.com/m/super_babies_b...   2.3.2  \n",
       "1       http://www.rottentomatoes.com/m/disaster_movie/   7.8.5  \n",
       "2     http://www.rottentomatoes.com/m/from_justin_to...   3.2.2  \n",
       "3      http://www.rottentomatoes.com/m/son_of_the_mask/   3.4.3  \n",
       "4            http://www.rottentomatoes.com/m/crossover/   5.3.5  \n",
       "...                                                 ...     ...  \n",
       "2673                                                NaN   6.7.8  \n",
       "2674                                                NaN   4.8.7  \n",
       "2675                                                NaN   4.7.2  \n",
       "2676                                                NaN  5.7.10  \n",
       "2677                                                NaN  4.7.10  \n",
       "\n",
       "[2678 rows x 28 columns]"
      ]
     },
     "execution_count": 19,
     "metadata": {},
     "output_type": "execute_result"
    }
   ],
   "source": [
    "temp_join"
   ]
  },
  {
   "cell_type": "code",
   "execution_count": null,
   "id": "cb5015f4",
   "metadata": {},
   "outputs": [],
   "source": [
    "temp_join = temp_join[['Title','Rated','Released','Genre','Plot','Rating']]"
   ]
  },
  {
   "cell_type": "code",
   "execution_count": null,
   "id": "883e66f5",
   "metadata": {},
   "outputs": [],
   "source": [
    "temp_join['Year'] = temp_join['Released'].str.split(' ',expand=True)[2]"
   ]
  },
  {
   "cell_type": "code",
   "execution_count": null,
   "id": "2766c417",
   "metadata": {},
   "outputs": [],
   "source": [
    "temp_join"
   ]
  },
  {
   "cell_type": "code",
   "execution_count": null,
   "id": "b65b0f5f",
   "metadata": {},
   "outputs": [],
   "source": [
    "temp_join = temp_join.dropna()"
   ]
  },
  {
   "cell_type": "code",
   "execution_count": null,
   "id": "9035a680",
   "metadata": {},
   "outputs": [],
   "source": [
    "temp_join[['Sex','Violence','Language']] = temp_join['Rating'].str.split('.',expand=True)"
   ]
  },
  {
   "cell_type": "code",
   "execution_count": null,
   "id": "846c7161",
   "metadata": {},
   "outputs": [],
   "source": [
    "temp_join['agg_score'] = temp_join['Sex'].astype(int) + temp_join['Violence'].astype(int) + temp_join['Language'].astype(int)"
   ]
  },
  {
   "cell_type": "code",
   "execution_count": null,
   "id": "e3d112f3",
   "metadata": {},
   "outputs": [],
   "source": [
    "temp_join"
   ]
  },
  {
   "cell_type": "code",
   "execution_count": null,
   "id": "7c5042a6",
   "metadata": {},
   "outputs": [],
   "source": [
    "# checking % of empty ratings in RATED\n",
    "temp_join[temp_join['Rated'] == ''].shape[0] / temp_join.shape[0]"
   ]
  },
  {
   "cell_type": "code",
   "execution_count": null,
   "id": "467bcb20",
   "metadata": {},
   "outputs": [],
   "source": [
    "temp_join['Rated'].value_counts()"
   ]
  },
  {
   "cell_type": "code",
   "execution_count": null,
   "id": "9242045e",
   "metadata": {},
   "outputs": [],
   "source": [
    "# Making values uniiform\n",
    "\n",
    "temp_join['Rated']= temp_join['Rated'].replace('TV-14', 'PG-13')\n",
    "temp_join['Rated']= temp_join['Rated'].replace('TV-MA', 'R')\n",
    "temp_join['Rated']= temp_join['Rated'].replace('TV-PG', 'PG')\n",
    "temp_join['Rated']= temp_join['Rated'].replace('NC-17', 'R')\n",
    "temp_join['Rated']= temp_join['Rated'].replace('TV-G', 'G')\n",
    "temp_join['Rated']= temp_join['Rated'].replace('TV-Y', 'G')\n",
    "\n",
    "#removing values which are not rated\n",
    "temp_join = temp_join[temp_join.Rated != 'UNRATED']\n",
    "temp_join = temp_join[temp_join.Rated != 'APPROVED']\n",
    "temp_join = temp_join[temp_join.Rated != 'NOT RATED']"
   ]
  },
  {
   "cell_type": "code",
   "execution_count": null,
   "id": "31962285",
   "metadata": {},
   "outputs": [],
   "source": [
    "temp_join['Rated'].value_counts()"
   ]
  },
  {
   "cell_type": "code",
   "execution_count": null,
   "id": "a0bb820c",
   "metadata": {},
   "outputs": [],
   "source": [
    "pd.DataFrame(temp_join.groupby('Year')['Title'].count())"
   ]
  },
  {
   "cell_type": "code",
   "execution_count": null,
   "id": "8e20d8c5",
   "metadata": {},
   "outputs": [],
   "source": [
    "# Ignoring all values before 1992\n",
    "post92 = temp_join[temp_join['Year'].astype(int) > 1991]"
   ]
  },
  {
   "cell_type": "code",
   "execution_count": null,
   "id": "62718ad5",
   "metadata": {},
   "outputs": [],
   "source": [
    "post92"
   ]
  },
  {
   "cell_type": "markdown",
   "id": "2aa382e6",
   "metadata": {},
   "source": [
    "### 2605 rows of data"
   ]
  },
  {
   "cell_type": "markdown",
   "id": "c5868458",
   "metadata": {},
   "source": [
    "## Calculating unweighted and weighted scores"
   ]
  },
  {
   "cell_type": "code",
   "execution_count": null,
   "id": "dacd3b8a",
   "metadata": {},
   "outputs": [],
   "source": [
    "percentages = post92.groupby('Year')['Rated'].apply(lambda x: x.value_counts(normalize = True)).unstack()"
   ]
  },
  {
   "cell_type": "code",
   "execution_count": null,
   "id": "0dd552e5",
   "metadata": {},
   "outputs": [],
   "source": [
    "percentages['unw_kim_score'] = post92.groupby('Year')['agg_score'].mean()"
   ]
  },
  {
   "cell_type": "code",
   "execution_count": null,
   "id": "904dc5bc",
   "metadata": {},
   "outputs": [],
   "source": [
    "percentages"
   ]
  },
  {
   "cell_type": "code",
   "execution_count": null,
   "id": "0f439e4e",
   "metadata": {},
   "outputs": [],
   "source": [
    "viz_df = percentages.reset_index()\n",
    "viz_df['unw_kim_score'] = viz_df['unw_kim_score'].astype('float64')\n",
    "viz_df['Year'] = viz_df['Year'].astype('int32')"
   ]
  },
  {
   "cell_type": "markdown",
   "id": "5b41ae16",
   "metadata": {},
   "source": [
    "### Unweighted score plot"
   ]
  },
  {
   "cell_type": "code",
   "execution_count": null,
   "id": "132e5bbb",
   "metadata": {},
   "outputs": [],
   "source": [
    "sns.set(rc={'figure.figsize':(11.7,8.27)})\n",
    "sns.regplot(x=viz_df['Year'],y=viz_df['unw_kim_score'],ci=95)"
   ]
  },
  {
   "cell_type": "code",
   "execution_count": null,
   "id": "c0897982",
   "metadata": {},
   "outputs": [],
   "source": [
    "# Normalizing problem:\n",
    "'''\n",
    "Each year, the distribution of movies assessed changes. To account for this change, need a weighted avg of KIM scores for each year.\n",
    "Possible solution: Calculate mean of % movies analyzed each year. \n",
    "Calculate weighted avg of KIM movies using this mean\n",
    "'''\n",
    "mean_percentage = dict(percentages.mean())\n",
    "mean_percentage"
   ]
  },
  {
   "cell_type": "code",
   "execution_count": null,
   "id": "03bd9ac9",
   "metadata": {
    "scrolled": true
   },
   "outputs": [],
   "source": [
    "normalize_dict = percentages.to_dict()\n",
    "normalize_dict"
   ]
  },
  {
   "cell_type": "code",
   "execution_count": null,
   "id": "cccd892b",
   "metadata": {},
   "outputs": [],
   "source": [
    "def calculate_weighted_score(row,col_num):\n",
    "    year = row[6]\n",
    "    rated = row[1]\n",
    "    weight = mean_percentage[rated] / normalize_dict[rated][year] \n",
    "    return row[col_num] * weight"
   ]
  },
  {
   "cell_type": "code",
   "execution_count": null,
   "id": "9c354a70",
   "metadata": {},
   "outputs": [],
   "source": [
    "# post92['weighted_agg'] = post92.apply(lambda x: calculate_weighted_score(x), axis = 1)\n",
    "post92['weighted_agg'] = post92.apply(calculate_weighted_score,args=[10], axis=1)"
   ]
  },
  {
   "cell_type": "code",
   "execution_count": null,
   "id": "084ae287",
   "metadata": {},
   "outputs": [],
   "source": [
    "post92"
   ]
  },
  {
   "cell_type": "code",
   "execution_count": null,
   "id": "15c8cf9b",
   "metadata": {},
   "outputs": [],
   "source": [
    "percentages['weighted_kim_score'] = post92.groupby('Year')['weighted_agg'].mean()"
   ]
  },
  {
   "cell_type": "markdown",
   "id": "b39b869d",
   "metadata": {},
   "source": [
    "### Weighted score plot"
   ]
  },
  {
   "cell_type": "code",
   "execution_count": null,
   "id": "13a3f3d1",
   "metadata": {},
   "outputs": [],
   "source": [
    "viz_df = percentages.reset_index()\n",
    "viz_df['weighted_kim_score'] = viz_df['weighted_kim_score'].astype('float64')\n",
    "viz_df['Year'] = viz_df['Year'].astype('int32')\n",
    "\n",
    "sns.set(rc={'figure.figsize':(11.7,8.27)})\n",
    "sns.regplot(x=viz_df['Year'],y=viz_df['weighted_kim_score'],ci=95)"
   ]
  },
  {
   "cell_type": "markdown",
   "id": "4cf1cc89",
   "metadata": {},
   "source": [
    "### Category-wise distribution of scores"
   ]
  },
  {
   "cell_type": "code",
   "execution_count": null,
   "id": "8915d0fa",
   "metadata": {},
   "outputs": [],
   "source": [
    "cols_to_process = ['Sex','Violence','Language']\n",
    "for col in cols_to_process:\n",
    "    post92[col] = post92[col].astype('int32')\n",
    "\n"
   ]
  },
  {
   "cell_type": "code",
   "execution_count": null,
   "id": "1303fd6d",
   "metadata": {},
   "outputs": [],
   "source": [
    "post92['weighted_sex'] = post92.apply(calculate_weighted_score,args=[7], axis=1)\n",
    "post92['weighted_violence'] = post92.apply(calculate_weighted_score,args=[8], axis=1)\n",
    "post92['weighted_language'] = post92.apply(calculate_weighted_score,args=[9], axis=1)\n",
    "post92"
   ]
  },
  {
   "cell_type": "code",
   "execution_count": null,
   "id": "a50c4fae",
   "metadata": {},
   "outputs": [],
   "source": [
    "percentages['weighted_sex_score'] = post92.groupby('Year')['weighted_sex'].mean()\n",
    "percentages['weighted_violence_score'] = post92.groupby('Year')['weighted_violence'].mean()\n",
    "percentages['weighted_language_score'] = post92.groupby('Year')['weighted_language'].mean()"
   ]
  },
  {
   "cell_type": "code",
   "execution_count": null,
   "id": "6b28e113",
   "metadata": {},
   "outputs": [],
   "source": [
    "cols_to_graph = ['weighted_sex_score','weighted_violence_score','weighted_language_score']\n",
    "\n",
    "temp_viz_df = percentages.reset_index()\n",
    "temp_viz_df['Year'] = temp_viz_df['Year'].astype('int32')\n",
    "\n",
    "# normalizing\n",
    "temp_viz_df[cols_to_graph] = temp_viz_df[cols_to_graph].apply(lambda x: (x - x.min()) / (x.max() - x.min()))\n",
    "\n",
    "fig, ax = plt.subplots(3,figsize=(14,20))\n",
    "\n",
    "sns.set_theme(style=\"whitegrid\")\n",
    "plt.style.use(\"seaborn-dark\")\n",
    "\n",
    "for param in ['figure.facecolor', 'axes.facecolor', 'savefig.facecolor']:\n",
    "    plt.rcParams[param] = '#2F3235'  # bluish dark grey\n",
    "\n",
    "for param in ['text.color', 'axes.labelcolor', 'xtick.color', 'ytick.color']:\n",
    "    plt.rcParams[param] = '0.9'  # very light grey\n",
    "\n",
    "colors = ['#FF4545','#38BAEE','#DB61E5']\n",
    "    \n",
    "for i, col in enumerate(cols_to_graph):\n",
    "    \n",
    "\n",
    "    plt.rcParams['axes.linewidth'] = 2\n",
    "    sns.regplot(x=temp_viz_df['Year'],y=temp_viz_df[col],ci=95,ax=ax[i],color=colors[i])"
   ]
  },
  {
   "cell_type": "markdown",
   "id": "6ab96136",
   "metadata": {},
   "source": [
    "### Correlation between scores"
   ]
  },
  {
   "cell_type": "code",
   "execution_count": null,
   "id": "91763f77",
   "metadata": {},
   "outputs": [],
   "source": [
    "cols_corr = ['weighted_sex_score','weighted_violence_score','weighted_language_score']\n",
    "combinations = combinations(cols_corr, 2)\n",
    "for i in combinations:\n",
    "    print(i)\n",
    "    print(pearsonr(temp_viz_df[i[0]],temp_viz_df[i[1]]))"
   ]
  },
  {
   "cell_type": "markdown",
   "id": "427596ff",
   "metadata": {},
   "source": [
    "<h1><b><center>Music Analysis</center></b></h1>"
   ]
  },
  {
   "cell_type": "markdown",
   "id": "2ad7b932",
   "metadata": {},
   "source": [
    "## Reading data"
   ]
  },
  {
   "cell_type": "code",
   "execution_count": null,
   "id": "dc8e9a36",
   "metadata": {},
   "outputs": [],
   "source": [
    "music_df = pd.read_csv('tcc_ceds_music.csv')"
   ]
  },
  {
   "cell_type": "code",
   "execution_count": null,
   "id": "e601951a",
   "metadata": {},
   "outputs": [],
   "source": [
    "charts_df = pd.read_csv('charts.csv')"
   ]
  },
  {
   "cell_type": "markdown",
   "id": "2930edc4",
   "metadata": {},
   "source": [
    "## Data processing"
   ]
  },
  {
   "cell_type": "code",
   "execution_count": null,
   "id": "298096f3",
   "metadata": {},
   "outputs": [],
   "source": [
    "charts_df['song'] = charts_df['song'].str.lower()\n",
    "charts_df"
   ]
  },
  {
   "cell_type": "code",
   "execution_count": null,
   "id": "5ab5b802",
   "metadata": {},
   "outputs": [],
   "source": [
    "charts_df = charts_df.drop_duplicates(subset=['song','artist'])"
   ]
  },
  {
   "cell_type": "code",
   "execution_count": null,
   "id": "d237e90c",
   "metadata": {},
   "outputs": [],
   "source": [
    "charts_df['artist'] = charts_df['artist'].str.lower()"
   ]
  },
  {
   "cell_type": "code",
   "execution_count": null,
   "id": "0453cb4e",
   "metadata": {},
   "outputs": [],
   "source": [
    "charts_df"
   ]
  },
  {
   "cell_type": "code",
   "execution_count": null,
   "id": "a45814b7",
   "metadata": {},
   "outputs": [],
   "source": [
    "merged_music = music_df.merge(charts_df,left_on=['track_name','artist_name'], right_on=['song','artist'],how = 'inner')"
   ]
  },
  {
   "cell_type": "code",
   "execution_count": null,
   "id": "7a75e3c3",
   "metadata": {},
   "outputs": [],
   "source": [
    "merged_music"
   ]
  },
  {
   "cell_type": "code",
   "execution_count": null,
   "id": "8dc41852",
   "metadata": {},
   "outputs": [],
   "source": [
    "pd.DataFrame(merged_music.groupby('release_date')['track_name'].count()).to_dict()"
   ]
  },
  {
   "cell_type": "code",
   "execution_count": null,
   "id": "adc486a0",
   "metadata": {},
   "outputs": [],
   "source": [
    "post59 = merged_music[merged_music['release_date'] >= 1959][['artist_name','track_name','release_date','genre','lyrics','violence','obscene','topic','rank']]"
   ]
  },
  {
   "cell_type": "code",
   "execution_count": null,
   "id": "0a88c0b6",
   "metadata": {},
   "outputs": [],
   "source": [
    "# import profanity words\n",
    "profanity_list = []\n",
    "with open('bad_words.txt','r') as fp:\n",
    "    for row in fp:\n",
    "        profanity_list.append(row.replace('\\n',''))"
   ]
  },
  {
   "cell_type": "code",
   "execution_count": null,
   "id": "54015c7f",
   "metadata": {},
   "outputs": [],
   "source": [
    "post59"
   ]
  },
  {
   "cell_type": "code",
   "execution_count": null,
   "id": "4f12256d",
   "metadata": {},
   "outputs": [],
   "source": [
    "post59.genre.value_counts()"
   ]
  },
  {
   "cell_type": "code",
   "execution_count": null,
   "id": "9b19e961",
   "metadata": {},
   "outputs": [],
   "source": [
    "# low hiphop numbers. Clubbing hiphop with pop\n",
    "post59['genre'].replace('hip hop','pop', inplace=True)"
   ]
  },
  {
   "cell_type": "markdown",
   "id": "6ee46c81",
   "metadata": {},
   "source": [
    "### Calculating profanity scores"
   ]
  },
  {
   "cell_type": "code",
   "execution_count": null,
   "id": "44b6d5fb",
   "metadata": {},
   "outputs": [],
   "source": [
    "def calculate_profanity(row, profanity_list = profanity_list):\n",
    "    lyrics = row[4].split(' ')\n",
    "    total_length = len(lyrics)\n",
    "    counter = 0\n",
    "    for word in lyrics:\n",
    "        if word in profanity_list:\n",
    "            counter += 1\n",
    "    return (counter/total_length)*100 \n",
    "    "
   ]
  },
  {
   "cell_type": "code",
   "execution_count": null,
   "id": "adcb9399",
   "metadata": {},
   "outputs": [],
   "source": [
    "post59['percent_prof'] = post59.apply(lambda x: calculate_profanity(x), axis=1)"
   ]
  },
  {
   "cell_type": "code",
   "execution_count": null,
   "id": "a866520f",
   "metadata": {},
   "outputs": [],
   "source": [
    "prof_percent_year = pd.DataFrame(post59.groupby('release_date')['percent_prof'].mean().reset_index())"
   ]
  },
  {
   "cell_type": "code",
   "execution_count": null,
   "id": "25a2a967",
   "metadata": {},
   "outputs": [],
   "source": [
    "prof_percent_year"
   ]
  },
  {
   "cell_type": "markdown",
   "id": "bbe1761f",
   "metadata": {},
   "source": [
    "### Plotting scores across years (all genres)"
   ]
  },
  {
   "cell_type": "code",
   "execution_count": null,
   "id": "fd35c4f6",
   "metadata": {},
   "outputs": [],
   "source": [
    "sns.set(rc={'figure.figsize':(11.7,8.27)})\n",
    "sns.regplot(x=prof_percent_year['release_date'],y=prof_percent_year['percent_prof'],ci=95)"
   ]
  },
  {
   "cell_type": "code",
   "execution_count": null,
   "id": "f9c22965",
   "metadata": {},
   "outputs": [],
   "source": [
    "genre_prof = post59.groupby(['release_date','genre'])['percent_prof'].mean().reset_index()\n",
    "genre_prof"
   ]
  },
  {
   "cell_type": "code",
   "execution_count": null,
   "id": "acf735f7",
   "metadata": {},
   "outputs": [],
   "source": [
    "# calculating the percentage distribution for each genre each eat\n",
    "popularity_percentage = post59.groupby('release_date')['genre'].apply(lambda x: x.value_counts(normalize = True)).unstack().to_dict()"
   ]
  },
  {
   "cell_type": "code",
   "execution_count": null,
   "id": "601df76f",
   "metadata": {},
   "outputs": [],
   "source": [
    "popularity_percentage"
   ]
  },
  {
   "cell_type": "code",
   "execution_count": null,
   "id": "3271384e",
   "metadata": {},
   "outputs": [],
   "source": [
    "list(genre_prof.genre.unique())"
   ]
  },
  {
   "cell_type": "code",
   "execution_count": null,
   "id": "115ebfe7",
   "metadata": {},
   "outputs": [],
   "source": [
    "\n",
    "# TODO: Color.\n",
    "# TODO: Normalize column values\n",
    "def plot_genres(data,popularity):\n",
    "    sns.set(rc={'figure.figsize':(11.7,8.27)})\n",
    "    sns.set_theme(style=\"whitegrid\")\n",
    "#     plt.style.use(\"bmh\")\n",
    "\n",
    "\n",
    "    plt.style.use(\"seaborn-dark\")\n",
    "\n",
    "    for param in ['figure.facecolor', 'axes.facecolor', 'savefig.facecolor']:\n",
    "        plt.rcParams[param] = '#2F3235'  # bluish dark grey\n",
    "\n",
    "    for param in ['text.color', 'axes.labelcolor', 'xtick.color', 'ytick.color']:\n",
    "        plt.rcParams[param] = '0.9'  # very light grey\n",
    "    \n",
    "    plt.rcParams['axes.linewidth'] = 2\n",
    "#     ax.grid(color='#2A3459')  # bluish dark grey, but slightly lighter\n",
    "\n",
    "\n",
    "\n",
    "    genres = list(data['genre'].unique())\n",
    "    for genre in genres:\n",
    "        temp = data[data['genre'] == genre]\n",
    "        \n",
    "        def popularity_lookup(row):\n",
    "            year = row[0]\n",
    "            pop_value = popularity[row[1]][year] * 100\n",
    "            \n",
    "            return pop_value\n",
    "        \n",
    "        \n",
    "        temp['percent_share'] = temp.apply(lambda x: popularity_lookup(x), axis=1)\n",
    "        temp = temp.drop('genre',1)\n",
    "        \n",
    "        # normalizing data due to difference in scale\n",
    "        cols_to_normalize = ['percent_share','percent_prof']\n",
    "        temp[cols_to_normalize] = temp[cols_to_normalize].apply(lambda x: (x - x.min()) / (x.max() - x.min()))\n",
    "        \n",
    "        corr = pearsonr(temp['percent_prof'], temp['percent_share'])\n",
    "        title_text = f\"Genre: {genre.capitalize()}, Correlation value: {corr[0]:.4f}, P-Value: {corr[1]:.4f}\"\n",
    "\n",
    "        sns.lmplot(data=pd.melt(temp,['release_date']), x='release_date', y='value',hue='variable',height=10, palette=['#08F7FE','#FE53BB'] ,aspect=1.2, scatter_kws={\"s\": 20}, line_kws={\"linewidth\":4}).set(title=title_text)"
   ]
  },
  {
   "cell_type": "markdown",
   "id": "d48e4e0a",
   "metadata": {},
   "source": [
    "### Plotting scores and popularity for each genre across years"
   ]
  },
  {
   "cell_type": "code",
   "execution_count": null,
   "id": "92fae6dd",
   "metadata": {
    "scrolled": false
   },
   "outputs": [],
   "source": [
    "plot_genres(genre_prof, popularity_percentage)"
   ]
  },
  {
   "cell_type": "code",
   "execution_count": null,
   "id": "e3d358b9",
   "metadata": {},
   "outputs": [],
   "source": [
    "def plot_correlation(data,popularity):\n",
    "    sns.set(rc={'figure.figsize':(11.7,8.27)})\n",
    "    genres = list(data['genre'].unique())\n",
    "    for genre in genres:\n",
    "        temp = data[data['genre'] == genre]\n",
    "        \n",
    "        def popularity_lookup(row):\n",
    "            year = row[0]\n",
    "            pop_value = popularity[row[1]][year] * 100\n",
    "            \n",
    "            return pop_value\n",
    "        \n",
    "        \n",
    "        temp['percent_share'] = temp.apply(lambda x: popularity_lookup(x), axis=1)\n",
    "        temp = temp.drop('genre',1)\n",
    "        \n",
    "        print(genre)\n",
    "#         print(temp[['percent_prof','percent_share']].corr())\n",
    "#         print(calculate_pvalues(temp[['percent_prof','percent_share']]))\n",
    "        print(pearsonr(temp['percent_prof'], temp['percent_share']))\n",
    "\n"
   ]
  },
  {
   "cell_type": "code",
   "execution_count": null,
   "id": "6ad17423",
   "metadata": {},
   "outputs": [],
   "source": [
    "plot_correlation(genre_prof, popularity_percentage)"
   ]
  },
  {
   "cell_type": "markdown",
   "id": "9d22efa7",
   "metadata": {},
   "source": [
    "<h1><b><center>Conclusion</center></b></h1>"
   ]
  },
  {
   "cell_type": "markdown",
   "id": "bee06f42",
   "metadata": {},
   "source": [
    "##### Movies:\n",
    "We observe a noticeable increase in KIM scores over the years, which indicates an increase in explicit content. We also observe an increase across all categories of KIM scores\n",
    "\n",
    "##### Music: \n",
    "We observe an increase in profanity over the years. We also studied the correlation between profanity and genre popularity across the years. While correlation doesn't equal causation, we observe a statistically significant correlation between popularity and profanity for Pop music. "
   ]
  },
  {
   "cell_type": "code",
   "execution_count": null,
   "id": "7ee1e76f",
   "metadata": {},
   "outputs": [],
   "source": []
  }
 ],
 "metadata": {
  "kernelspec": {
   "display_name": "Python 3",
   "language": "python",
   "name": "python3"
  },
  "language_info": {
   "codemirror_mode": {
    "name": "ipython",
    "version": 3
   },
   "file_extension": ".py",
   "mimetype": "text/x-python",
   "name": "python",
   "nbconvert_exporter": "python",
   "pygments_lexer": "ipython3",
   "version": "3.9.2"
  }
 },
 "nbformat": 4,
 "nbformat_minor": 5
}
