{
 "cells": [
  {
   "cell_type": "code",
   "execution_count": 4,
   "id": "010ca6cd",
   "metadata": {},
   "outputs": [],
   "source": [
    "from bs4 import BeautifulSoup\n",
    "import requests"
   ]
  },
  {
   "cell_type": "code",
   "execution_count": 64,
   "id": "3ef26bb4",
   "metadata": {},
   "outputs": [],
   "source": [
    "from string import ascii_lowercase"
   ]
  },
  {
   "cell_type": "code",
   "execution_count": 98,
   "id": "05456dd1",
   "metadata": {},
   "outputs": [],
   "source": [
    "movies_list = []\n",
    "for ch in ascii_lowercase:\n",
    "    url = 'https://kids-in-mind.com/'+ch+'.htm'\n",
    "    data = requests.get(url).text\n",
    "    soup = BeautifulSoup(data, 'lxml')\n",
    "    movies = soup.find_all('div', class_=\"et_pb_text_inner\")\n",
    "    temp = str(movies[2]).split('<br/>\\n')\n",
    "    movies_list = movies_list + temp"
   ]
  },
  {
   "cell_type": "code",
   "execution_count": 99,
   "id": "e376bed6",
   "metadata": {},
   "outputs": [],
   "source": [
    "movies_list_replaced = [w.replace('–', '-') for w in movies_list]"
   ]
  },
  {
   "cell_type": "code",
   "execution_count": 136,
   "id": "1c2ce2df",
   "metadata": {},
   "outputs": [],
   "source": [
    "movies_dict = {}\n",
    "for item in movies_list_replaced:\n",
    "    title = item.split('_blank\">')[1].split('</a>')[0]\n",
    "    rating = item.split('_blank\">')[1].split('</a>')[1].split(\"- \")[1].strip()\n",
    "    if '</div>' in rating:\n",
    "        rating = rating.split('<')[0]\n",
    "    movies_dict[title] = rating\n"
   ]
  },
  {
   "cell_type": "code",
   "execution_count": 139,
   "id": "cdca1e70",
   "metadata": {},
   "outputs": [],
   "source": [
    "connectors = ('The','A','An')\n",
    "for item in movies_dict:\n",
    "    if item.endswith(connectors):\n",
    "        item_replace = item.split(' ')\n",
    "        item_replace.insert(0,item_replace[-1])\n",
    "        item_replace.pop(-1)\n",
    "        item_replace = ' '.join(item_replace)[:-1]\n",
    "\n",
    "        movies_dict[item_replace] = movies_dict.pop(item)"
   ]
  },
  {
   "cell_type": "code",
   "execution_count": 141,
   "id": "9aa8fc65",
   "metadata": {},
   "outputs": [],
   "source": [
    "import json\n",
    "\n",
    "with open('kinds_in_mind_data.json', 'w') as fp:\n",
    "    json.dump(movies_dict, fp)"
   ]
  },
  {
   "cell_type": "code",
   "execution_count": null,
   "id": "e3c0fc44",
   "metadata": {},
   "outputs": [],
   "source": []
  }
 ],
 "metadata": {
  "kernelspec": {
   "display_name": "Python 3",
   "language": "python",
   "name": "python3"
  },
  "language_info": {
   "codemirror_mode": {
    "name": "ipython",
    "version": 3
   },
   "file_extension": ".py",
   "mimetype": "text/x-python",
   "name": "python",
   "nbconvert_exporter": "python",
   "pygments_lexer": "ipython3",
   "version": "3.9.2"
  }
 },
 "nbformat": 4,
 "nbformat_minor": 5
}
